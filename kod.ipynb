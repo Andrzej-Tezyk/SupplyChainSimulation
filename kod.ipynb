{
 "cells": [
  {
   "cell_type": "markdown",
   "metadata": {},
   "source": [
    "Celem naszego projektu jest stworzenie narzędzia do modelowania wielookresowych, wieloproduktowych sieci dostaw w warunkach popytu i zmiennych czasów dostaw. Projekt opiera się na symulacji, które pozwoli na elastyczne modelowanie różnych scenariuszy sieci dostaw oraz testowanie strategii zarządzania zapasami w złożonych systemach logistycznych.\n",
    "Kluczowe założenia projektu:\n",
    "1.  Elastyczna struktura węzłów sieci dostaw\n",
    "Planujemy umożliwić modelowanie sieci zbudowanych z trzech typów węzłów:\n",
    "o  Producentów, gdzie realizowane są procesy przekształcania materiałów\n",
    "o  Dystrybutorów, które pełnią rolę centrów magazynowych i dystrybucyjnych.\n",
    "o  Rynków, gdzie klienci końcowi składają zamówienia, co umożliwia uwzględnienie popytu zewnętrznego w dowolnym punkcie sieci.\n",
    "\n",
    "Planujemy umożliwić integrację środowiska z pakietem ReinforcementLearning.jl. Dzięki temu możliwe będzie trenowanie agentów, którzy będą automatycznie podejmować decyzje o zamówieniach na podstawie dynamicznie zmieniających się warunków w sieci.\n",
    "\n",
    "\n",
    "\n",
    "\n",
    "Proszę pamiętać o zaprojektowaniu analizy wrażliwości, m.in. sprawdzeniu wyników dla różnych rodzajów sieci."
   ]
  },
  {
   "cell_type": "code",
   "execution_count": null,
   "metadata": {
    "vscode": {
     "languageId": "julia"
    }
   },
   "outputs": [],
   "source": []
  }
 ],
 "metadata": {
  "language_info": {
   "name": "python"
  }
 },
 "nbformat": 4,
 "nbformat_minor": 2
}
