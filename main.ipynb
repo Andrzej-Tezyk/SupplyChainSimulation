{
 "cells": [
  {
   "cell_type": "markdown",
   "metadata": {},
   "source": [
    "Celem naszego projektu jest stworzenie narzędzia do modelowania wielookresowych, wieloproduktowych sieci dostaw w warunkach popytu i zmiennych czasów dostaw. Projekt opiera się na symulacji, które pozwoli na elastyczne modelowanie różnych scenariuszy sieci dostaw oraz testowanie strategii zarządzania zapasami w złożonych systemach logistycznych.\n",
    "Kluczowe założenia projektu:\n",
    "1.  Elastyczna struktura węzłów sieci dostaw\n",
    "Planujemy umożliwić modelowanie sieci zbudowanych z trzech typów węzłów:                          \n",
    "o  Producentów, gdzie realizowane są procesy przekształcania materiałów                       \n",
    "o  Dystrybutorów, które pełnią rolę centrów magazynowych i dystrybucyjnych.                                \n",
    "o  Rynków, gdzie klienci końcowi składają zamówienia, co umożliwia uwzględnienie popytu zewnętrznego w dowolnym punkcie sieci.                                \n",
    "\n",
    "Planujemy umożliwić integrację środowiska z pakietem ReinforcementLearning.jl. Dzięki temu możliwe będzie trenowanie agentów, którzy będą automatycznie podejmować decyzje o zamówieniach na podstawie dynamicznie zmieniających się warunków w sieci.\n",
    "\n",
    "\n",
    "\n",
    "\n",
    "Proszę pamiętać o zaprojektowaniu analizy wrażliwości, m.in. sprawdzeniu wyników dla różnych rodzajów sieci."
   ]
  },
  {
   "cell_type": "markdown",
   "metadata": {},
   "source": [
    "Przykładowa Firma: GreenTech Solutions\n",
    "Opis firmy:\n",
    "GreenTech Solutions to firma zajmująca się produkcją oraz dystrybucją ekologicznych produktów do domów i biur, takich jak energooszczędne urządzenia AGD, panele słoneczne, akcesoria do recyklingu i kompostowania, a także inteligentne systemy zarządzania energią. Firma stawia na zrównoważony rozwój, minimalizację wpływu na środowisko oraz promowanie energooszczędnych rozwiązań dla osób prywatnych i przedsiębiorstw.\n",
    "\n",
    "Struktura firmy:\n",
    "Producent (Produkcja i Przekształcanie):\n",
    "\n",
    "Zakłady produkcyjne:\n",
    "Europa (Polska): Produkcja energooszczędnych urządzeń AGD, takich jak pralki, lodówki, kuchenki, z wykorzystaniem materiałów pochodzących z recyklingu.\n",
    "Azja (Chiny): Produkcja paneli słonecznych i akcesoriów do systemów zarządzania energią.\n",
    "Procesy produkcyjne: Produkcja urządzeń AGD w modelu zrównoważonym, z minimalnym zużyciem energii i wody, a także panele słoneczne, które są wykorzystywane w systemach energetycznych dla domów i firm.\n",
    "Zakłady dostosowują produkcję do zmieniającego się popytu na produkty związane z oszczędzaniem energii.\n",
    "Dystrybutorzy (Magazyny i Centra Logistyczne):\n",
    "\n",
    "Trzy główne centra dystrybucyjne:\n",
    "Europa Zachodnia (Niemcy): Centrum dystrybucyjne obsługujące rynki niemiecki, francuski, brytyjski i inne kraje UE.\n",
    "Ameryka Północna (USA): Centrum dystrybucyjne zlokalizowane w USA obsługujące rynek amerykański i kanadyjski.\n",
    "Azja-Pacyfik (Singapur): Centrum dystrybucyjne dla regionów Azji, Australii i Nowej Zelandii.\n",
    "Funkcja dystrybucji: Centra dystrybucyjne pełnią rolę magazynów centralnych, z których produkty są rozprowadzane do mniejszych punktów sprzedaży, takich jak sklepy detaliczne, hurtownie, a także bezpośrednio do klientów indywidualnych i biznesowych.\n",
    "Rynki (Popyt Klientów):\n",
    "\n",
    "Sprzedaż detaliczna i online: Produkty firmy GreenTech Solutions są sprzedawane zarówno w tradycyjnych sklepach, jak i przez sklep internetowy.\n",
    "Popyt zależny od sezonu: W okresach zimowych rośnie zapotrzebowanie na energooszczędne urządzenia grzewcze i oświetleniowe, a w okresie letnim na panele słoneczne oraz systemy zarządzania energią.\n",
    "Zróżnicowane potrzeby regionalne: W krajach skandynawskich większy popyt na urządzenia do oszczędzania energii, w krajach słonecznych (np. Hiszpania) – panele słoneczne.\n",
    "Dlaczego GreenTech Solutions nadaje się do projektu?\n",
    "Elastyczna struktura węzłów sieci:\n",
    "Firma posiada trzy typy węzłów (producentów, dystrybutorów i rynki) w zróżnicowanych lokalizacjach geograficznych, co umożliwia modelowanie sieci dostaw w różnych scenariuszach.\n",
    "\n",
    "Zmienność w czasie dostaw:\n",
    "Czasy dostaw mogą się dynamicznie zmieniać w zależności od sezonowych wzrostów popytu, takich jak zimowe promocje na urządzenia grzewcze, czy letnie wzrosty zapotrzebowania na panele słoneczne. Dodatkowo, zakłócenia w dostawach surowców (np. metali do produkcji paneli) mogą wpływać na dostępność produktów.\n",
    "\n",
    "Integracja z ReinforcementLearning.jl:\n",
    "W ramach testowania różnych scenariuszy, agenci RL mogą podejmować decyzje o zamówieniach oraz zarządzaniu zapasami, optymalizując produkcję na podstawie prognozowanego popytu, a także dostosowując strategie dostaw w zależności od zmieniających się warunków rynkowych.\n",
    "\n",
    "Analiza wrażliwości:\n",
    "Dzięki analizie wrażliwości możliwe będzie zbadanie wpływu różnych czynników na funkcjonowanie sieci dostaw, takich jak:\n",
    "\n",
    "Zmiany w strukturze popytu (np. nagłe wzrosty zainteresowania ekologicznymi produktami).\n",
    "Opóźnienia w dostawach surowców.\n",
    "Różne strategie magazynowania i dystrybucji w zależności od regionu.\n",
    "GreenTech Solutions jest idealnym kandydatem do testowania elastycznych sieci dostaw, które mogą reagować na zmieniające się warunki rynkowe oraz popyt na ekologiczne produkty, przy jednoczesnej konieczności utrzymania zrównoważonego rozwoju i minimalizacji wpływu na środowisko."
   ]
  },
  {
   "cell_type": "code",
   "execution_count": null,
   "metadata": {
    "vscode": {
     "languageId": "julia"
    }
   },
   "outputs": [],
   "source": []
  }
 ],
 "metadata": {
  "language_info": {
   "name": "python"
  }
 },
 "nbformat": 4,
 "nbformat_minor": 2
}
